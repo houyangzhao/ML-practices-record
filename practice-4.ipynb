{
  "cells": [
    {
      "attachments": {
        "train_accuracy.png": {
          "image/png": "[encoded data removed]"
        },
        "valid_accuracy.png": {
          "image/png": "[encoded data removed]"
        }
      },
      "cell_type": "markdown",
      "metadata": {
        "id": "zC5KwRyl6Flp"
      },
      "source": [
        "### Review\n",
        "- 调参很顺利，一次就过了strong baseline\n",
        "- ![train_accuracy.png](attachment:train_accuracy.png)\n",
        "- ![valid_accuracy.png](attachment:valid_accuracy.png)\n",
        "## Tips\n",
        "- optimizer使用warmup\n",
        "- 与其自己胡乱写框架，不如学习一些论文中的框架经验，比如应该设几个self-attention层，layer的宽度最好怎么设置，input和output的大小最好呈怎样的关系\n",
        "- 这次训练时间拉长到了5h，可以看到训练时间不够长的话model的能力就没有充分发挥出来\n",
        "- tensorboard的使用要注意命令的路径"
      ]
    },
    {
      "cell_type": "markdown",
      "metadata": {},
      "source": [
        "# Task description\n",
        "- Classify the speakers of given features.\n",
        "- Main goal: Learn how to use transformer.\n",
        "- Baselines:\n",
        "  - Easy: Run sample code and know how to use transformer.\n",
        "  - Medium: Know how to adjust parameters of transformer.\n",
        "  - Hard: Construct [conformer](https://arxiv.org/abs/2005.08100) which is a variety of transformer.\n",
        "\n",
        "- Other links\n",
        "  - Kaggle: [link](https://www.kaggle.com/t/859c9ca9ede14fdea841be627c412322)\n",
        "  - Slide: [link](https://speech.ee.ntu.edu.tw/~hylee/ml/ml2021-course-data/hw/HW04/HW04.pdf)\n",
        "  - Data: [link](https://drive.google.com/file/d/1T0RPnu-Sg5eIPwQPfYysipfcz81MnsYe/view?usp=sharing)\n",
        "  - Video (Chinese): [link](https://www.youtube.com/watch?v=EPerg2UnGaI)\n",
        "  - Video (English): [link](https://www.youtube.com/watch?v=Gpz6AUvCak0)\n",
        "  - Solution for downloading dataset fail.: [link](https://drive.google.com/drive/folders/13T0Pa_WGgQxNkqZk781qhc5T9-zfh19e?usp=sharing)"
      ]
    },
    {
      "cell_type": "markdown",
      "metadata": {
        "id": "TPDoreyypeJE"
      },
      "source": [
        "# Download dataset\n",
        "- Please follow [here](https://drive.google.com/drive/folders/13T0Pa_WGgQxNkqZk781qhc5T9-zfh19e?usp=sharing) to download data\n",
        "- Data is [here](https://drive.google.com/file/d/1gaFy8RaQVUEXo2n0peCBR5gYKCB-mNHc/view?usp=sharing)"
      ]
    },
    {
      "cell_type": "code",
      "execution_count": 1,
      "metadata": {
        "id": "QvpaILXnJIcw"
      },
      "outputs": [
        {
          "name": "stderr",
          "output_type": "stream",
          "text": [
            "usage: gdown [-h] [-V] [-O OUTPUT] [-q] [--fuzzy] [--id] [--proxy PROXY]\n",
            "             [--speed SPEED] [--no-cookies] [--no-check-certificate]\n",
            "             [--continue] [--folder] [--remaining-ok] [--format FORMAT]\n",
            "             [--user-agent USER_AGENT]\n",
            "             url_or_id\n",
            "gdown: error: unrecognized arguments: your own data download link'\n",
            "'unzip' �����ڲ����ⲿ���Ҳ���ǿ����еĳ���\n",
            "���������ļ���\n"
          ]
        }
      ],
      "source": [
        "!gdown --id 'paste your own data download link' --output Dataset.zip\n",
        "!unzip Dataset.zip"
      ]
    },
    {
      "cell_type": "markdown",
      "metadata": {
        "id": "v1gYr_aoNDue"
      },
      "source": [
        "# Data"
      ]
    },
    {
      "cell_type": "markdown",
      "metadata": {
        "id": "Mz_NpuAipk3h"
      },
      "source": [
        "## Dataset\n",
        "- Original dataset is [Voxceleb1](https://www.robots.ox.ac.uk/~vgg/data/voxceleb/).\n",
        "- The [license](https://creativecommons.org/licenses/by/4.0/) and [complete version](https://www.robots.ox.ac.uk/~vgg/data/voxceleb/files/license.txt) of Voxceleb1.\n",
        "- We randomly select 600 speakers from Voxceleb1.\n",
        "- Then preprocess the raw waveforms into mel-spectrograms.\n",
        "\n",
        "- Args:\n",
        "  - data_dir: The path to the data directory.\n",
        "  - metadata_path: The path to the metadata.\n",
        "  - segment_len: The length of audio segment for training.\n",
        "- The architecture of data directory \\\\\n",
        "  - data directory \\\\\n",
        "  |---- metadata.json \\\\\n",
        "  |---- testdata.json \\\\\n",
        "  |---- mapping.json \\\\\n",
        "  |---- uttr-{random string}.pt \\\\\n",
        "\n",
        "- The information in metadata\n",
        "  - \"n_mels\": The dimention of mel-spectrogram.\n",
        "  - \"speakers\": A dictionary.\n",
        "    - Key: speaker ids.\n",
        "    - value: \"feature_path\" and \"mel_len\"\n",
        "\n",
        "\n",
        "For efficiency, we segment the mel-spectrograms into segments in the traing step."
      ]
    },
    {
      "cell_type": "code",
      "execution_count": 2,
      "metadata": {
        "id": "cd7hoGhYtbXQ"
      },
      "outputs": [],
      "source": [
        "import os\n",
        "import json\n",
        "import torch\n",
        "import random\n",
        "from pathlib import Path\n",
        "from torch.utils.data import Dataset\n",
        "from torch.nn.utils.rnn import pad_sequence\n",
        "\n",
        "\n",
        "class myDataset(Dataset):\n",
        "  def __init__(self, data_dir, segment_len=128):\n",
        "    self.data_dir = data_dir\n",
        "    self.segment_len = segment_len\n",
        "\n",
        "    # Load the mapping from speaker neme to their corresponding id.\n",
        "    mapping_path = Path(data_dir) / \"mapping.json\"\n",
        "    mapping = json.load(mapping_path.open())\n",
        "    self.speaker2id = mapping[\"speaker2id\"]\n",
        "\n",
        "    # Load metadata of training data.\n",
        "    metadata_path = Path(data_dir) / \"metadata.json\"\n",
        "    metadata = json.load(open(metadata_path))[\"speakers\"]\n",
        "\n",
        "    # Get the total number of speaker.\n",
        "    self.speaker_num = len(metadata.keys())\n",
        "    self.data = []\n",
        "    for speaker in metadata.keys():\n",
        "      for utterances in metadata[speaker]:\n",
        "        self.data.append([utterances[\"feature_path\"], self.speaker2id[speaker]])\n",
        "\n",
        "  def __len__(self):\n",
        "    return len(self.data)\n",
        "\n",
        "  def __getitem__(self, index):\n",
        "    feat_path, speaker = self.data[index]\n",
        "    # Load preprocessed mel-spectrogram.\n",
        "    mel = torch.load(os.path.join(self.data_dir, feat_path))\n",
        "\n",
        "    # Segmemt mel-spectrogram into \"segment_len\" frames.\n",
        "    if len(mel) > self.segment_len:\n",
        "      # Randomly get the starting point of the segment.\n",
        "      start = random.randint(0, len(mel) - self.segment_len)\n",
        "      # Get a segment with \"segment_len\" frames.\n",
        "      mel = torch.FloatTensor(mel[start:start+self.segment_len])\n",
        "    else:\n",
        "      mel = torch.FloatTensor(mel)\n",
        "    # Turn the speaker id into long for computing loss later.\n",
        "    speaker = torch.FloatTensor([speaker]).long()\n",
        "    return mel, speaker\n",
        "\n",
        "  def get_speaker_number(self):\n",
        "    return self.speaker_num"
      ]
    },
    {
      "cell_type": "markdown",
      "metadata": {
        "id": "mqJxjoi_NGnB"
      },
      "source": [
        "## Dataloader\n",
        "- Split dataset into training dataset(90%) and validation dataset(10%).\n",
        "- Create dataloader to iterate the data.\n"
      ]
    },
    {
      "cell_type": "code",
      "execution_count": 3,
      "metadata": {
        "id": "zuT1AuFENI8t"
      },
      "outputs": [],
      "source": [
        "import torch\n",
        "from torch.utils.data import DataLoader, random_split\n",
        "from torch.nn.utils.rnn import pad_sequence\n",
        "\n",
        "\n",
        "def collate_batch(batch):\n",
        "  # Process features within a batch.\n",
        "  \"\"\"Collate a batch of data.\"\"\"\n",
        "  mel, speaker = zip(*batch)\n",
        "  # Because we train the model batch by batch, we need to pad the features in the same batch to make their lengths the same.\n",
        "  mel = pad_sequence(mel, batch_first=True, padding_value=-20)    # pad log 10^(-20) which is very small value.\n",
        "  # mel: (batch size, length, 40)\n",
        "  return mel, torch.FloatTensor(speaker).long()\n",
        "\n",
        "\n",
        "def get_dataloader(data_dir, batch_size, n_workers):\n",
        "  \"\"\"Generate dataloader\"\"\"\n",
        "  dataset = myDataset(data_dir)\n",
        "  speaker_num = dataset.get_speaker_number()\n",
        "  # Split dataset into training dataset and validation dataset\n",
        "  trainlen = int(0.9 * len(dataset))\n",
        "  print(f\"[Info]: Training set length: {trainlen}, Validation set length: {len(dataset) - trainlen}\", flush=True)\n",
        "  lengths = [trainlen, len(dataset) - trainlen]\n",
        "  trainset, validset = random_split(dataset, lengths)\n",
        "\n",
        "  train_loader = DataLoader(\n",
        "    trainset,\n",
        "    batch_size=batch_size,\n",
        "    shuffle=True,\n",
        "    drop_last=True,\n",
        "    num_workers=n_workers,\n",
        "    pin_memory=True,\n",
        "    collate_fn=collate_batch,\n",
        "  )\n",
        "  valid_loader = DataLoader(\n",
        "    validset,\n",
        "    batch_size=batch_size,\n",
        "    num_workers=n_workers,\n",
        "    drop_last=True,\n",
        "    pin_memory=True,\n",
        "    collate_fn=collate_batch,\n",
        "  )\n",
        "\n",
        "  return train_loader, valid_loader, speaker_num\n"
      ]
    },
    {
      "cell_type": "markdown",
      "metadata": {
        "id": "X0x6eXiHpr4R"
      },
      "source": [
        "# Model\n",
        "- TransformerEncoderLayer:\n",
        "  - Base transformer encoder layer in [Attention Is All You Need](https://arxiv.org/abs/1706.03762)\n",
        "  - Parameters:\n",
        "    - d_model: the number of expected features of the input (required).\n",
        "\n",
        "    - nhead: the number of heads of the multiheadattention models (required).\n",
        "\n",
        "    - dim_feedforward: the dimension of the feedforward network model (default=2048).\n",
        "\n",
        "    - dropout: the dropout value (default=0.1).\n",
        "\n",
        "    - activation: the activation function of intermediate layer, relu or gelu (default=relu).\n",
        "\n",
        "- TransformerEncoder:\n",
        "  - TransformerEncoder is a stack of N transformer encoder layers\n",
        "  - Parameters:\n",
        "    - encoder_layer: an instance of the TransformerEncoderLayer() class (required).\n",
        "\n",
        "    - num_layers: the number of sub-encoder-layers in the encoder (required).\n",
        "\n",
        "    - norm: the layer normalization component (optional)."
      ]
    },
    {
      "cell_type": "code",
      "execution_count": 4,
      "metadata": {
        "id": "SHX4eVj4tjtd"
      },
      "outputs": [],
      "source": [
        "import torch\n",
        "import torch.nn as nn\n",
        "import torch.nn.functional as F\n",
        "\n",
        "\n",
        "class Classifier(nn.Module):\n",
        "  def __init__(self, d_model=128, n_spks=600, dropout=0.1):\n",
        "    super().__init__()\n",
        "    # Project the dimension of features from that of input into d_model.\n",
        "    self.prenet = nn.Sequential(\n",
        "            nn.Linear(40, d_model // 2),\n",
        "            nn.ReLU(),\n",
        "            nn.Dropout(dropout),\n",
        "            nn.Linear(d_model // 2, d_model),\n",
        "        )\n",
        "    # TODO:\n",
        "    #   Change Transformer to Conformer.\n",
        "    #   https://arxiv.org/abs/2005.08100\n",
        "    self.encoder_layer = nn.TransformerEncoderLayer(\n",
        "      d_model=d_model, dim_feedforward=512, nhead=8\n",
        "    )\n",
        "    self.encoder = nn.TransformerEncoder(self.encoder_layer, num_layers=4)\n",
        "\n",
        "    # Project the the dimension of features from d_model into speaker nums.\n",
        "    self.pred_layer = nn.Sequential(\n",
        "      nn.Linear(d_model, d_model),\n",
        "      nn.BatchNorm1d(d_model),\n",
        "      nn.Dropout(dropout),\n",
        "      nn.ReLU(),\n",
        "      nn.Linear(d_model, n_spks),\n",
        "    )\n",
        "\n",
        "  def forward(self, mels):\n",
        "    \"\"\"\n",
        "    args:\n",
        "      mels: (batch size, length, 40)\n",
        "    return:\n",
        "      out: (batch size, n_spks)\n",
        "    \"\"\"\n",
        "    # out: (batch size, length, d_model)\n",
        "    out = self.prenet(mels)\n",
        "    # out: (length, batch size, d_model)\n",
        "    out = out.permute(1, 0, 2)\n",
        "    # The encoder layer expect features in the shape of (length, batch size, d_model).\n",
        "    out = self.encoder(out)\n",
        "    # out: (batch size, length, d_model)\n",
        "    out = out.transpose(0, 1)\n",
        "    # mean pooling\n",
        "    stats = out.mean(dim=1)\n",
        "\n",
        "    # out: (batch, n_spks)\n",
        "    out = self.pred_layer(stats)\n",
        "    return out\n"
      ]
    },
    {
      "cell_type": "markdown",
      "metadata": {
        "id": "-__DolPGpvDZ"
      },
      "source": [
        "# Learning rate schedule\n",
        "- For transformer architecture, the design of learning rate schedule is different from that of CNN.\n",
        "- Previous works show that the warmup of learning rate is useful for training models with transformer architectures.\n",
        "- The warmup schedule\n",
        "  - Set learning rate to 0 in the beginning.\n",
        "  - The learning rate increases linearly from 0 to initial learning rate during warmup period."
      ]
    },
    {
      "cell_type": "code",
      "execution_count": 5,
      "metadata": {
        "id": "K-0816BntqT9"
      },
      "outputs": [],
      "source": [
        "import math\n",
        "\n",
        "import torch\n",
        "from torch.optim import Optimizer\n",
        "from torch.optim.lr_scheduler import LambdaLR\n",
        "\n",
        "\n",
        "def get_cosine_schedule_with_warmup(\n",
        "  optimizer: Optimizer,\n",
        "  num_warmup_steps: int,\n",
        "  num_training_steps: int,\n",
        "  num_cycles: float = 0.5,\n",
        "  last_epoch: int = -1,\n",
        "):\n",
        "  \"\"\"\n",
        "  Create a schedule with a learning rate that decreases following the values of the cosine function between the\n",
        "  initial lr set in the optimizer to 0, after a warmup period during which it increases linearly between 0 and the\n",
        "  initial lr set in the optimizer.\n",
        "\n",
        "  Args:\n",
        "    optimizer (:class:`~torch.optim.Optimizer`):\n",
        "      The optimizer for which to schedule the learning rate.\n",
        "    num_warmup_steps (:obj:`int`):\n",
        "      The number of steps for the warmup phase.\n",
        "    num_training_steps (:obj:`int`):\n",
        "      The total number of training steps.\n",
        "    num_cycles (:obj:`float`, `optional`, defaults to 0.5):\n",
        "      The number of waves in the cosine schedule (the defaults is to just decrease from the max value to 0\n",
        "      following a half-cosine).\n",
        "    last_epoch (:obj:`int`, `optional`, defaults to -1):\n",
        "      The index of the last epoch when resuming training.\n",
        "\n",
        "  Return:\n",
        "    :obj:`torch.optim.lr_scheduler.LambdaLR` with the appropriate schedule.\n",
        "  \"\"\"\n",
        "\n",
        "  def lr_lambda(current_step):\n",
        "    # Warmup\n",
        "    if current_step < num_warmup_steps:\n",
        "      return float(current_step) / float(max(1, num_warmup_steps))\n",
        "    # decadence\n",
        "    progress = float(current_step - num_warmup_steps) / float(\n",
        "      max(1, num_training_steps - num_warmup_steps)\n",
        "    )\n",
        "    return max(\n",
        "      0.0, 0.5 * (1.0 + math.cos(math.pi * float(num_cycles) * 2.0 * progress))\n",
        "    )\n",
        "\n",
        "  return LambdaLR(optimizer, lr_lambda, last_epoch)\n"
      ]
    },
    {
      "cell_type": "markdown",
      "metadata": {
        "id": "IP03FFo9K8DS"
      },
      "source": [
        "# Model Function\n",
        "- Model forward function."
      ]
    },
    {
      "cell_type": "code",
      "execution_count": 6,
      "metadata": {
        "id": "fohaLEFJK9-t"
      },
      "outputs": [],
      "source": [
        "import torch\n",
        "\n",
        "\n",
        "def model_fn(batch, model, criterion, device):\n",
        "  \"\"\"Forward a batch through the model.\"\"\"\n",
        "\n",
        "  mels, labels = batch\n",
        "  mels = mels.to(device)\n",
        "  labels = labels.to(device)\n",
        "\n",
        "  outs = model(mels)\n",
        "\n",
        "  loss = criterion(outs, labels)\n",
        "\n",
        "  # Get the speaker id with highest probability.\n",
        "  preds = outs.argmax(1)\n",
        "  # Compute accuracy.\n",
        "  accuracy = torch.mean((preds == labels).float())\n",
        "\n",
        "  return loss, accuracy\n"
      ]
    },
    {
      "cell_type": "markdown",
      "metadata": {
        "id": "F7cg-YrzLQcf"
      },
      "source": [
        "# Validate\n",
        "- Calculate accuracy of the validation set."
      ]
    },
    {
      "cell_type": "code",
      "execution_count": 7,
      "metadata": {
        "id": "mD-_p6nWLO2L"
      },
      "outputs": [],
      "source": [
        "from tqdm import tqdm\n",
        "import torch\n",
        "\n",
        "\n",
        "def valid(dataloader, model, criterion, device):\n",
        "  \"\"\"Validate on validation set.\"\"\"\n",
        "\n",
        "  model.eval()\n",
        "  running_loss = 0.0\n",
        "  running_accuracy = 0.0\n",
        "  pbar = tqdm(total=len(dataloader.dataset), ncols=0, desc=\"Valid\", unit=\" uttr\")\n",
        "\n",
        "  for i, batch in enumerate(dataloader):\n",
        "    with torch.no_grad():\n",
        "      loss, accuracy = model_fn(batch, model, criterion, device)\n",
        "      running_loss += loss.item()\n",
        "      running_accuracy += accuracy.item()\n",
        "\n",
        "    pbar.update(dataloader.batch_size)\n",
        "    pbar.set_postfix(\n",
        "      loss=f\"{running_loss / (i+1):.2f}\",\n",
        "      accuracy=f\"{running_accuracy / (i+1):.2f}\",\n",
        "    )\n",
        "\n",
        "  pbar.close()\n",
        "  model.train()\n",
        "\n",
        "  return running_accuracy / len(dataloader)\n"
      ]
    },
    {
      "cell_type": "markdown",
      "metadata": {
        "id": "noHXyal5p1W5"
      },
      "source": [
        "# Main function"
      ]
    },
    {
      "cell_type": "code",
      "execution_count": 8,
      "metadata": {
        "id": "chRQE7oYtw62"
      },
      "outputs": [
        {
          "name": "stdout",
          "output_type": "stream",
          "text": [
            "[Info]: Use cuda now!\n",
            "[Info]: Training set length: 62494, Validation set length: 6944\n",
            "[Info]: Finish loading data!\n"
          ]
        },
        {
          "name": "stderr",
          "output_type": "stream",
          "text": [
            "e:\\anaconda3\\envs\\torch-env\\lib\\site-packages\\torch\\nn\\modules\\transformer.py:379: UserWarning: enable_nested_tensor is True, but self.use_nested_tensor is False because encoder_layer.self_attn.batch_first was not True(use batch_first for better inference performance)\n",
            "  warnings.warn(\n"
          ]
        },
        {
          "name": "stdout",
          "output_type": "stream",
          "text": [
            "[Info]: Finish creating model!\n"
          ]
        },
        {
          "name": "stderr",
          "output_type": "stream",
          "text": [
            "Train:   0% 0/500 [00:00<?, ? step/s]C:\\Users\\Lenovo\\AppData\\Local\\Temp\\ipykernel_22356\\97271689.py:37: FutureWarning: You are using `torch.load` with `weights_only=False` (the current default value), which uses the default pickle module implicitly. It is possible to construct malicious pickle data which will execute arbitrary code during unpickling (See https://github.com/pytorch/pytorch/blob/main/SECURITY.md#untrusted-models for more details). In a future release, the default value for `weights_only` will be flipped to `True`. This limits the functions that could be executed during unpickling. Arbitrary objects will no longer be allowed to be loaded via this mode unless they are explicitly allowlisted by the user via `torch.serialization.add_safe_globals`. We recommend you start setting `weights_only=True` for any use case where you don't have full control of the loaded file. Please open an issue on GitHub for any issues related to this experimental feature.\n",
            "  mel = torch.load(os.path.join(self.data_dir, feat_path))\n",
            "Train: 100% 500/500 [01:52<00:00,  4.43 step/s, accuracy=0.25, loss=3.41, step=500]\n",
            "Valid: 100% 6912/6944 [00:07<00:00, 931.71 uttr/s, accuracy=0.28, loss=3.44] \n",
            "Train: 100% 500/500 [01:51<00:00,  4.47 step/s, accuracy=0.47, loss=2.40, step=1000]\n",
            "Valid: 100% 6912/6944 [00:06<00:00, 993.71 uttr/s, accuracy=0.47, loss=2.34] \n",
            "Train: 100% 500/500 [01:45<00:00,  4.72 step/s, accuracy=0.56, loss=1.97, step=1500]\n",
            "Valid: 100% 6912/6944 [00:07<00:00, 977.41 uttr/s, accuracy=0.58, loss=1.82] \n",
            "Train: 100% 500/500 [02:07<00:00,  3.91 step/s, accuracy=0.63, loss=1.62, step=2000]\n",
            "Valid: 100% 6912/6944 [00:08<00:00, 826.38 uttr/s, accuracy=0.62, loss=1.64]\n",
            "Train:   0% 0/500 [00:00<?, ? step/s]"
          ]
        },
        {
          "name": "stdout",
          "output_type": "stream",
          "text": [
            "Step 2000, best model saved. (accuracy=0.6188)\n"
          ]
        },
        {
          "name": "stderr",
          "output_type": "stream",
          "text": [
            "Train: 100% 500/500 [02:06<00:00,  3.94 step/s, accuracy=0.75, loss=1.13, step=2500]\n",
            "Valid: 100% 6912/6944 [00:10<00:00, 665.14 uttr/s, accuracy=0.65, loss=1.46]\n",
            "Train: 100% 500/500 [02:02<00:00,  4.07 step/s, accuracy=0.70, loss=1.23, step=3000]\n",
            "Valid: 100% 6912/6944 [00:08<00:00, 804.10 uttr/s, accuracy=0.69, loss=1.29]\n",
            "Train: 100% 500/500 [02:00<00:00,  4.14 step/s, accuracy=0.73, loss=1.06, step=3500]\n",
            "Valid: 100% 6912/6944 [00:10<00:00, 669.92 uttr/s, accuracy=0.70, loss=1.24]\n",
            "Train: 100% 500/500 [02:03<00:00,  4.04 step/s, accuracy=0.76, loss=0.95, step=4000]\n",
            "Valid: 100% 6912/6944 [00:08<00:00, 791.29 uttr/s, accuracy=0.71, loss=1.20]\n",
            "Train:   0% 0/500 [00:00<?, ? step/s]"
          ]
        },
        {
          "name": "stdout",
          "output_type": "stream",
          "text": [
            "Step 4000, best model saved. (accuracy=0.7121)\n"
          ]
        },
        {
          "name": "stderr",
          "output_type": "stream",
          "text": [
            "Train: 100% 500/500 [02:02<00:00,  4.10 step/s, accuracy=0.72, loss=0.98, step=4500]\n",
            "Valid: 100% 6912/6944 [00:08<00:00, 777.06 uttr/s, accuracy=0.73, loss=1.13]\n",
            "Train: 100% 500/500 [02:01<00:00,  4.11 step/s, accuracy=0.73, loss=1.05, step=5000]\n",
            "Valid: 100% 6912/6944 [00:08<00:00, 803.09 uttr/s, accuracy=0.74, loss=1.09]\n",
            "Train: 100% 500/500 [01:58<00:00,  4.21 step/s, accuracy=0.75, loss=0.88, step=5500]\n",
            "Valid: 100% 6912/6944 [00:08<00:00, 795.46 uttr/s, accuracy=0.75, loss=1.04] \n",
            "Train: 100% 500/500 [02:00<00:00,  4.16 step/s, accuracy=0.81, loss=0.81, step=6000]\n",
            "Valid: 100% 6912/6944 [00:08<00:00, 823.15 uttr/s, accuracy=0.76, loss=1.04]\n",
            "Train:   0% 0/500 [00:00<?, ? step/s]"
          ]
        },
        {
          "name": "stdout",
          "output_type": "stream",
          "text": [
            "Step 6000, best model saved. (accuracy=0.7554)\n"
          ]
        },
        {
          "name": "stderr",
          "output_type": "stream",
          "text": [
            "Train: 100% 500/500 [02:03<00:00,  4.03 step/s, accuracy=0.81, loss=0.81, step=6500]\n",
            "Valid: 100% 6912/6944 [00:07<00:00, 960.93 uttr/s, accuracy=0.76, loss=1.01] \n",
            "Train: 100% 500/500 [02:19<00:00,  3.58 step/s, accuracy=0.83, loss=0.63, step=7000]\n",
            "Valid: 100% 6912/6944 [00:10<00:00, 660.56 uttr/s, accuracy=0.77, loss=0.97]\n",
            "Train: 100% 500/500 [02:28<00:00,  3.38 step/s, accuracy=0.81, loss=0.67, step=7500]\n",
            "Valid: 100% 6912/6944 [00:09<00:00, 697.24 uttr/s, accuracy=0.78, loss=0.97]\n",
            "Train: 100% 500/500 [02:26<00:00,  3.42 step/s, accuracy=0.81, loss=0.66, step=8000]\n",
            "Valid: 100% 6912/6944 [00:09<00:00, 724.16 uttr/s, accuracy=0.79, loss=0.92]\n",
            "Train:   0% 0/500 [00:00<?, ? step/s]"
          ]
        },
        {
          "name": "stdout",
          "output_type": "stream",
          "text": [
            "Step 8000, best model saved. (accuracy=0.7872)\n"
          ]
        },
        {
          "name": "stderr",
          "output_type": "stream",
          "text": [
            "Train: 100% 500/500 [02:22<00:00,  3.52 step/s, accuracy=0.84, loss=0.71, step=8500]\n",
            "Valid: 100% 6912/6944 [00:09<00:00, 710.30 uttr/s, accuracy=0.78, loss=0.95]\n",
            "Train: 100% 500/500 [02:27<00:00,  3.39 step/s, accuracy=0.82, loss=0.71, step=9000]\n",
            "Valid: 100% 6912/6944 [00:09<00:00, 735.46 uttr/s, accuracy=0.79, loss=0.92]\n",
            "Train: 100% 500/500 [02:24<00:00,  3.47 step/s, accuracy=0.82, loss=0.65, step=9500]\n",
            "Valid: 100% 6912/6944 [00:09<00:00, 735.21 uttr/s, accuracy=0.80, loss=0.89]\n",
            "Train: 100% 500/500 [02:13<00:00,  3.74 step/s, accuracy=0.82, loss=0.70, step=1e+4]\n",
            "Valid: 100% 6912/6944 [00:08<00:00, 770.64 uttr/s, accuracy=0.80, loss=0.89]\n",
            "Train:   0% 0/500 [00:00<?, ? step/s]"
          ]
        },
        {
          "name": "stdout",
          "output_type": "stream",
          "text": [
            "Step 10000, best model saved. (accuracy=0.8014)\n"
          ]
        },
        {
          "name": "stderr",
          "output_type": "stream",
          "text": [
            "Train: 100% 500/500 [02:17<00:00,  3.64 step/s, accuracy=0.81, loss=0.71, step=10500]\n",
            "Valid: 100% 6912/6944 [00:09<00:00, 749.43 uttr/s, accuracy=0.79, loss=0.92]\n",
            "Train: 100% 500/500 [02:18<00:00,  3.62 step/s, accuracy=0.88, loss=0.48, step=11000]\n",
            "Valid: 100% 6912/6944 [00:10<00:00, 690.75 uttr/s, accuracy=0.81, loss=0.85]\n",
            "Train: 100% 500/500 [02:17<00:00,  3.63 step/s, accuracy=0.87, loss=0.45, step=11500]\n",
            "Valid: 100% 6912/6944 [00:09<00:00, 718.12 uttr/s, accuracy=0.80, loss=0.87]\n",
            "Train: 100% 500/500 [02:21<00:00,  3.54 step/s, accuracy=0.89, loss=0.52, step=12000]\n",
            "Valid: 100% 6912/6944 [00:10<00:00, 687.36 uttr/s, accuracy=0.80, loss=0.88]\n",
            "Train:   0% 0/500 [00:00<?, ? step/s]"
          ]
        },
        {
          "name": "stdout",
          "output_type": "stream",
          "text": [
            "Step 12000, best model saved. (accuracy=0.8086)\n"
          ]
        },
        {
          "name": "stderr",
          "output_type": "stream",
          "text": [
            "Train: 100% 500/500 [02:07<00:00,  3.91 step/s, accuracy=0.84, loss=0.55, step=12500]\n",
            "Valid: 100% 6912/6944 [00:09<00:00, 754.95 uttr/s, accuracy=0.82, loss=0.82] \n",
            "Train: 100% 500/500 [02:10<00:00,  3.83 step/s, accuracy=0.82, loss=0.64, step=13000]\n",
            "Valid: 100% 6912/6944 [00:09<00:00, 696.28 uttr/s, accuracy=0.82, loss=0.82]\n",
            "Train: 100% 500/500 [02:13<00:00,  3.75 step/s, accuracy=0.88, loss=0.50, step=13500]\n",
            "Valid: 100% 6912/6944 [00:10<00:00, 636.91 uttr/s, accuracy=0.82, loss=0.81]\n",
            "Train: 100% 500/500 [02:13<00:00,  3.73 step/s, accuracy=0.85, loss=0.54, step=14000]\n",
            "Valid: 100% 6912/6944 [00:10<00:00, 678.45 uttr/s, accuracy=0.82, loss=0.81]\n",
            "Train:   0% 0/500 [00:00<?, ? step/s]"
          ]
        },
        {
          "name": "stdout",
          "output_type": "stream",
          "text": [
            "Step 14000, best model saved. (accuracy=0.8215)\n"
          ]
        },
        {
          "name": "stderr",
          "output_type": "stream",
          "text": [
            "Train: 100% 500/500 [02:13<00:00,  3.75 step/s, accuracy=0.88, loss=0.43, step=14500]\n",
            "Valid: 100% 6912/6944 [00:10<00:00, 634.35 uttr/s, accuracy=0.82, loss=0.82]\n",
            "Train: 100% 500/500 [02:09<00:00,  3.87 step/s, accuracy=0.85, loss=0.40, step=15000]\n",
            "Valid: 100% 6912/6944 [00:10<00:00, 647.54 uttr/s, accuracy=0.83, loss=0.79]\n",
            "Train: 100% 500/500 [02:15<00:00,  3.68 step/s, accuracy=0.88, loss=0.40, step=15500]\n",
            "Valid: 100% 6912/6944 [00:10<00:00, 673.77 uttr/s, accuracy=0.81, loss=0.83]\n",
            "Train: 100% 500/500 [01:49<00:00,  4.58 step/s, accuracy=0.87, loss=0.46, step=16000]\n",
            "Valid: 100% 6912/6944 [00:06<00:00, 988.74 uttr/s, accuracy=0.82, loss=0.81] \n",
            "Train:   0% 0/500 [00:00<?, ? step/s]"
          ]
        },
        {
          "name": "stdout",
          "output_type": "stream",
          "text": [
            "Step 16000, best model saved. (accuracy=0.8261)\n"
          ]
        },
        {
          "name": "stderr",
          "output_type": "stream",
          "text": [
            "Train: 100% 500/500 [01:38<00:00,  5.08 step/s, accuracy=0.88, loss=0.40, step=16500]\n",
            "Valid: 100% 6912/6944 [00:07<00:00, 972.88 uttr/s, accuracy=0.82, loss=0.84] \n",
            "Train: 100% 500/500 [01:38<00:00,  5.05 step/s, accuracy=0.91, loss=0.37, step=17000]\n",
            "Valid: 100% 6912/6944 [00:07<00:00, 979.49 uttr/s, accuracy=0.83, loss=0.80] \n",
            "Train: 100% 500/500 [01:39<00:00,  5.05 step/s, accuracy=0.89, loss=0.41, step=17500]\n",
            "Valid: 100% 6912/6944 [00:07<00:00, 976.38 uttr/s, accuracy=0.82, loss=0.83] \n",
            "Train: 100% 500/500 [01:38<00:00,  5.09 step/s, accuracy=0.88, loss=0.37, step=18000]\n",
            "Valid: 100% 6912/6944 [00:07<00:00, 979.14 uttr/s, accuracy=0.82, loss=0.83] \n",
            "Train:   0% 0/500 [00:00<?, ? step/s]"
          ]
        },
        {
          "name": "stdout",
          "output_type": "stream",
          "text": [
            "Step 18000, best model saved. (accuracy=0.8264)\n"
          ]
        },
        {
          "name": "stderr",
          "output_type": "stream",
          "text": [
            "Train: 100% 500/500 [01:38<00:00,  5.09 step/s, accuracy=0.89, loss=0.37, step=18500]\n",
            "Valid: 100% 6912/6944 [00:07<00:00, 969.95 uttr/s, accuracy=0.83, loss=0.80] \n",
            "Train: 100% 500/500 [01:39<00:00,  5.04 step/s, accuracy=0.89, loss=0.37, step=19000]\n",
            "Valid: 100% 6912/6944 [00:07<00:00, 969.43 uttr/s, accuracy=0.83, loss=0.81] \n",
            "Train: 100% 500/500 [01:37<00:00,  5.12 step/s, accuracy=0.89, loss=0.40, step=19500]\n",
            "Valid: 100% 6912/6944 [00:07<00:00, 957.10 uttr/s, accuracy=0.82, loss=0.79] \n",
            "Train: 100% 500/500 [01:37<00:00,  5.14 step/s, accuracy=0.91, loss=0.37, step=2e+4] \n",
            "Valid: 100% 6912/6944 [00:07<00:00, 939.75 uttr/s, accuracy=0.83, loss=0.81] \n",
            "Train:   0% 0/500 [00:00<?, ? step/s]"
          ]
        },
        {
          "name": "stdout",
          "output_type": "stream",
          "text": [
            "Step 20000, best model saved. (accuracy=0.8267)\n"
          ]
        },
        {
          "name": "stderr",
          "output_type": "stream",
          "text": [
            "Train: 100% 500/500 [01:38<00:00,  5.06 step/s, accuracy=0.91, loss=0.34, step=20500]\n",
            "Valid: 100% 6912/6944 [00:07<00:00, 956.55 uttr/s, accuracy=0.83, loss=0.79] \n",
            "Train: 100% 500/500 [01:37<00:00,  5.15 step/s, accuracy=0.89, loss=0.36, step=21000]\n",
            "Valid: 100% 6912/6944 [00:07<00:00, 970.35 uttr/s, accuracy=0.84, loss=0.76] \n",
            "Train: 100% 500/500 [01:35<00:00,  5.22 step/s, accuracy=0.86, loss=0.49, step=21500]\n",
            "Valid: 100% 6912/6944 [00:07<00:00, 945.39 uttr/s, accuracy=0.83, loss=0.80] \n",
            "Train: 100% 500/500 [01:35<00:00,  5.22 step/s, accuracy=0.93, loss=0.23, step=22000]\n",
            "Valid: 100% 6912/6944 [00:07<00:00, 936.20 uttr/s, accuracy=0.85, loss=0.71] \n",
            "Train:   0% 0/500 [00:00<?, ? step/s]"
          ]
        },
        {
          "name": "stdout",
          "output_type": "stream",
          "text": [
            "Step 22000, best model saved. (accuracy=0.8487)\n"
          ]
        },
        {
          "name": "stderr",
          "output_type": "stream",
          "text": [
            "Train: 100% 500/500 [01:35<00:00,  5.24 step/s, accuracy=0.93, loss=0.30, step=22500]\n",
            "Valid: 100% 6912/6944 [00:07<00:00, 968.93 uttr/s, accuracy=0.84, loss=0.73] \n",
            "Train: 100% 500/500 [01:34<00:00,  5.28 step/s, accuracy=0.91, loss=0.39, step=23000]\n",
            "Valid: 100% 6912/6944 [00:07<00:00, 957.45 uttr/s, accuracy=0.84, loss=0.75] \n",
            "Train: 100% 500/500 [01:35<00:00,  5.24 step/s, accuracy=0.93, loss=0.31, step=23500]\n",
            "Valid: 100% 6912/6944 [00:07<00:00, 929.32 uttr/s, accuracy=0.85, loss=0.75] \n",
            "Train: 100% 500/500 [01:36<00:00,  5.18 step/s, accuracy=0.90, loss=0.31, step=24000]\n",
            "Valid: 100% 6912/6944 [00:07<00:00, 966.68 uttr/s, accuracy=0.85, loss=0.73] \n",
            "Train:   0% 0/500 [00:00<?, ? step/s]"
          ]
        },
        {
          "name": "stdout",
          "output_type": "stream",
          "text": [
            "Step 24000, best model saved. (accuracy=0.8516)\n"
          ]
        },
        {
          "name": "stderr",
          "output_type": "stream",
          "text": [
            "Train: 100% 500/500 [01:34<00:00,  5.28 step/s, accuracy=0.90, loss=0.28, step=24500]\n",
            "Valid: 100% 6912/6944 [00:07<00:00, 963.77 uttr/s, accuracy=0.84, loss=0.78] \n",
            "Train: 100% 500/500 [01:33<00:00,  5.33 step/s, accuracy=0.90, loss=0.34, step=25000]\n",
            "Valid: 100% 6912/6944 [00:06<00:00, 1011.06 uttr/s, accuracy=0.84, loss=0.77]\n",
            "Train: 100% 500/500 [01:35<00:00,  5.25 step/s, accuracy=0.93, loss=0.26, step=25500]\n",
            "Valid: 100% 6912/6944 [00:07<00:00, 970.66 uttr/s, accuracy=0.85, loss=0.75] \n",
            "Train: 100% 500/500 [01:36<00:00,  5.16 step/s, accuracy=0.91, loss=0.35, step=26000]\n",
            "Valid: 100% 6912/6944 [00:07<00:00, 985.82 uttr/s, accuracy=0.85, loss=0.73] \n",
            "Train:   0% 0/500 [00:00<?, ? step/s]"
          ]
        },
        {
          "name": "stdout",
          "output_type": "stream",
          "text": [
            "Step 26000, best model saved. (accuracy=0.8516)\n"
          ]
        },
        {
          "name": "stderr",
          "output_type": "stream",
          "text": [
            "Train: 100% 500/500 [01:37<00:00,  5.14 step/s, accuracy=0.93, loss=0.28, step=26500]\n",
            "Valid: 100% 6912/6944 [00:08<00:00, 838.93 uttr/s, accuracy=0.85, loss=0.76] \n",
            "Train: 100% 500/500 [02:03<00:00,  4.05 step/s, accuracy=0.91, loss=0.29, step=27000]\n",
            "Valid: 100% 6912/6944 [00:09<00:00, 733.37 uttr/s, accuracy=0.85, loss=0.77]\n",
            "Train: 100% 500/500 [02:05<00:00,  3.97 step/s, accuracy=0.93, loss=0.21, step=27500]\n",
            "Valid: 100% 6912/6944 [00:08<00:00, 778.75 uttr/s, accuracy=0.84, loss=0.79]\n",
            "Train: 100% 500/500 [02:03<00:00,  4.05 step/s, accuracy=0.94, loss=0.22, step=28000]\n",
            "Valid: 100% 6912/6944 [00:08<00:00, 776.83 uttr/s, accuracy=0.85, loss=0.77]\n",
            "Train:   0% 0/500 [00:00<?, ? step/s]"
          ]
        },
        {
          "name": "stdout",
          "output_type": "stream",
          "text": [
            "Step 28000, best model saved. (accuracy=0.8516)\n"
          ]
        },
        {
          "name": "stderr",
          "output_type": "stream",
          "text": [
            "Train: 100% 500/500 [02:01<00:00,  4.13 step/s, accuracy=0.91, loss=0.30, step=28500]\n",
            "Valid: 100% 6912/6944 [00:08<00:00, 778.54 uttr/s, accuracy=0.85, loss=0.75]\n",
            "Train: 100% 500/500 [01:58<00:00,  4.20 step/s, accuracy=0.92, loss=0.28, step=29000]\n",
            "Valid: 100% 6912/6944 [00:08<00:00, 781.90 uttr/s, accuracy=0.85, loss=0.75]\n",
            "Train: 100% 500/500 [02:00<00:00,  4.14 step/s, accuracy=0.90, loss=0.33, step=29500]\n",
            "Valid: 100% 6912/6944 [00:08<00:00, 799.79 uttr/s, accuracy=0.85, loss=0.73]\n",
            "Train: 100% 500/500 [02:00<00:00,  4.16 step/s, accuracy=0.93, loss=0.22, step=3e+4] \n",
            "Valid: 100% 6912/6944 [00:08<00:00, 819.97 uttr/s, accuracy=0.86, loss=0.72] \n",
            "Train:   0% 0/500 [00:00<?, ? step/s]"
          ]
        },
        {
          "name": "stdout",
          "output_type": "stream",
          "text": [
            "Step 30000, best model saved. (accuracy=0.8552)\n"
          ]
        },
        {
          "name": "stderr",
          "output_type": "stream",
          "text": [
            "Train: 100% 500/500 [02:00<00:00,  4.15 step/s, accuracy=0.93, loss=0.20, step=30500]\n",
            "Valid: 100% 6912/6944 [00:08<00:00, 798.77 uttr/s, accuracy=0.86, loss=0.68]\n",
            "Train: 100% 500/500 [01:56<00:00,  4.28 step/s, accuracy=0.90, loss=0.34, step=31000]\n",
            "Valid: 100% 6912/6944 [00:08<00:00, 805.03 uttr/s, accuracy=0.86, loss=0.71]\n",
            "Train: 100% 500/500 [01:58<00:00,  4.21 step/s, accuracy=0.94, loss=0.17, step=31500]\n",
            "Valid: 100% 6912/6944 [00:08<00:00, 806.92 uttr/s, accuracy=0.85, loss=0.72]\n",
            "Train: 100% 500/500 [01:58<00:00,  4.23 step/s, accuracy=0.95, loss=0.19, step=32000]\n",
            "Valid: 100% 6912/6944 [00:09<00:00, 751.16 uttr/s, accuracy=0.86, loss=0.73]\n",
            "Train:   0% 0/500 [00:00<?, ? step/s]"
          ]
        },
        {
          "name": "stdout",
          "output_type": "stream",
          "text": [
            "Step 32000, best model saved. (accuracy=0.8630)\n"
          ]
        },
        {
          "name": "stderr",
          "output_type": "stream",
          "text": [
            "Train: 100% 500/500 [01:34<00:00,  5.28 step/s, accuracy=0.93, loss=0.28, step=32500]\n",
            "Valid: 100% 6912/6944 [00:06<00:00, 1000.65 uttr/s, accuracy=0.86, loss=0.72]\n",
            "Train: 100% 500/500 [01:35<00:00,  5.26 step/s, accuracy=0.92, loss=0.24, step=33000]\n",
            "Valid: 100% 6912/6944 [00:06<00:00, 998.52 uttr/s, accuracy=0.86, loss=0.72] \n",
            "Train: 100% 500/500 [01:35<00:00,  5.25 step/s, accuracy=0.97, loss=0.13, step=33500]\n",
            "Valid: 100% 6912/6944 [00:06<00:00, 990.23 uttr/s, accuracy=0.86, loss=0.69] \n",
            "Train: 100% 500/500 [01:35<00:00,  5.23 step/s, accuracy=0.93, loss=0.27, step=34000]\n",
            "Valid: 100% 6912/6944 [00:07<00:00, 900.25 uttr/s, accuracy=0.86, loss=0.75] \n",
            "Train:   0% 0/500 [00:00<?, ? step/s]"
          ]
        },
        {
          "name": "stdout",
          "output_type": "stream",
          "text": [
            "Step 34000, best model saved. (accuracy=0.8640)\n"
          ]
        },
        {
          "name": "stderr",
          "output_type": "stream",
          "text": [
            "Train: 100% 500/500 [01:58<00:00,  4.21 step/s, accuracy=0.96, loss=0.12, step=34500]\n",
            "Valid: 100% 6912/6944 [00:08<00:00, 784.44 uttr/s, accuracy=0.86, loss=0.67]\n",
            "Train: 100% 500/500 [01:56<00:00,  4.31 step/s, accuracy=0.93, loss=0.22, step=35000]\n",
            "Valid: 100% 6912/6944 [00:07<00:00, 898.41 uttr/s, accuracy=0.87, loss=0.67] \n",
            "Train: 100% 500/500 [01:59<00:00,  4.18 step/s, accuracy=0.95, loss=0.19, step=35500]\n",
            "Valid: 100% 6912/6944 [00:09<00:00, 763.32 uttr/s, accuracy=0.86, loss=0.71]\n",
            "Train: 100% 500/500 [01:57<00:00,  4.24 step/s, accuracy=0.93, loss=0.20, step=36000]\n",
            "Valid: 100% 6912/6944 [00:08<00:00, 772.11 uttr/s, accuracy=0.86, loss=0.70]\n",
            "Train:   0% 0/500 [00:00<?, ? step/s]"
          ]
        },
        {
          "name": "stdout",
          "output_type": "stream",
          "text": [
            "Step 36000, best model saved. (accuracy=0.8675)\n"
          ]
        },
        {
          "name": "stderr",
          "output_type": "stream",
          "text": [
            "Train: 100% 500/500 [01:56<00:00,  4.30 step/s, accuracy=0.92, loss=0.27, step=36500]\n",
            "Valid: 100% 6912/6944 [00:08<00:00, 806.61 uttr/s, accuracy=0.87, loss=0.68]\n",
            "Train: 100% 500/500 [01:56<00:00,  4.29 step/s, accuracy=0.93, loss=0.24, step=37000]\n",
            "Valid: 100% 6912/6944 [00:08<00:00, 791.28 uttr/s, accuracy=0.86, loss=0.70]\n",
            "Train: 100% 500/500 [01:57<00:00,  4.25 step/s, accuracy=0.96, loss=0.13, step=37500]\n",
            "Valid: 100% 6912/6944 [00:08<00:00, 802.38 uttr/s, accuracy=0.87, loss=0.69]\n",
            "Train: 100% 500/500 [01:57<00:00,  4.27 step/s, accuracy=0.95, loss=0.17, step=38000]\n",
            "Valid: 100% 6912/6944 [00:08<00:00, 797.41 uttr/s, accuracy=0.87, loss=0.68]\n",
            "Train:   0% 0/500 [00:00<?, ? step/s]"
          ]
        },
        {
          "name": "stdout",
          "output_type": "stream",
          "text": [
            "Step 38000, best model saved. (accuracy=0.8715)\n"
          ]
        },
        {
          "name": "stderr",
          "output_type": "stream",
          "text": [
            "Train: 100% 500/500 [01:57<00:00,  4.25 step/s, accuracy=0.95, loss=0.18, step=38500]\n",
            "Valid: 100% 6912/6944 [00:08<00:00, 794.66 uttr/s, accuracy=0.86, loss=0.70]\n",
            "Train: 100% 500/500 [01:37<00:00,  5.13 step/s, accuracy=0.95, loss=0.20, step=39000]\n",
            "Valid: 100% 6912/6944 [00:07<00:00, 948.92 uttr/s, accuracy=0.87, loss=0.69] \n",
            "Train: 100% 500/500 [01:36<00:00,  5.17 step/s, accuracy=0.93, loss=0.24, step=39500]\n",
            "Valid: 100% 6912/6944 [00:07<00:00, 935.05 uttr/s, accuracy=0.87, loss=0.71] \n",
            "Train: 100% 500/500 [01:36<00:00,  5.16 step/s, accuracy=0.95, loss=0.19, step=4e+4] \n",
            "Valid: 100% 6912/6944 [00:07<00:00, 959.84 uttr/s, accuracy=0.87, loss=0.68] \n",
            "Train:   0% 0/500 [00:00<?, ? step/s]"
          ]
        },
        {
          "name": "stdout",
          "output_type": "stream",
          "text": [
            "Step 40000, best model saved. (accuracy=0.8715)\n"
          ]
        },
        {
          "name": "stderr",
          "output_type": "stream",
          "text": [
            "Train: 100% 500/500 [01:32<00:00,  5.39 step/s, accuracy=0.96, loss=0.10, step=40500]\n",
            "Valid: 100% 6912/6944 [00:07<00:00, 968.06 uttr/s, accuracy=0.88, loss=0.65] \n",
            "Train: 100% 500/500 [01:44<00:00,  4.79 step/s, accuracy=0.93, loss=0.23, step=41000]\n",
            "Valid: 100% 6912/6944 [00:08<00:00, 778.38 uttr/s, accuracy=0.86, loss=0.73]\n",
            "Train: 100% 500/500 [01:36<00:00,  5.17 step/s, accuracy=0.97, loss=0.12, step=41500]\n",
            "Valid: 100% 6912/6944 [00:07<00:00, 964.24 uttr/s, accuracy=0.87, loss=0.65] \n",
            "Train: 100% 500/500 [01:34<00:00,  5.30 step/s, accuracy=0.96, loss=0.19, step=42000]\n",
            "Valid: 100% 6912/6944 [00:07<00:00, 962.02 uttr/s, accuracy=0.87, loss=0.68] \n",
            "Train:   0% 0/500 [00:00<?, ? step/s]"
          ]
        },
        {
          "name": "stdout",
          "output_type": "stream",
          "text": [
            "Step 42000, best model saved. (accuracy=0.8777)\n"
          ]
        },
        {
          "name": "stderr",
          "output_type": "stream",
          "text": [
            "Train: 100% 500/500 [01:55<00:00,  4.31 step/s, accuracy=0.96, loss=0.10, step=42500]\n",
            "Valid: 100% 6912/6944 [00:09<00:00, 727.93 uttr/s, accuracy=0.87, loss=0.67]\n",
            "Train: 100% 500/500 [01:58<00:00,  4.22 step/s, accuracy=0.97, loss=0.13, step=43000]\n",
            "Valid: 100% 6912/6944 [00:08<00:00, 777.33 uttr/s, accuracy=0.87, loss=0.67]\n",
            "Train: 100% 500/500 [01:58<00:00,  4.21 step/s, accuracy=0.96, loss=0.13, step=43500]\n",
            "Valid: 100% 6912/6944 [00:09<00:00, 711.30 uttr/s, accuracy=0.86, loss=0.72]\n",
            "Train: 100% 500/500 [01:57<00:00,  4.24 step/s, accuracy=0.96, loss=0.12, step=44000]\n",
            "Valid: 100% 6912/6944 [00:08<00:00, 772.64 uttr/s, accuracy=0.87, loss=0.68]\n",
            "Train:   0% 0/500 [00:00<?, ? step/s]"
          ]
        },
        {
          "name": "stdout",
          "output_type": "stream",
          "text": [
            "Step 44000, best model saved. (accuracy=0.8777)\n"
          ]
        },
        {
          "name": "stderr",
          "output_type": "stream",
          "text": [
            "Train: 100% 500/500 [01:56<00:00,  4.29 step/s, accuracy=0.98, loss=0.10, step=44500]\n",
            "Valid: 100% 6912/6944 [00:08<00:00, 785.89 uttr/s, accuracy=0.88, loss=0.65]\n",
            "Train: 100% 500/500 [01:47<00:00,  4.67 step/s, accuracy=0.96, loss=0.13, step=45000]\n",
            "Valid: 100% 6912/6944 [00:07<00:00, 983.33 uttr/s, accuracy=0.88, loss=0.64] \n",
            "Train: 100% 500/500 [01:34<00:00,  5.32 step/s, accuracy=0.98, loss=0.07, step=45500]\n",
            "Valid: 100% 6912/6944 [00:07<00:00, 986.98 uttr/s, accuracy=0.87, loss=0.68] \n",
            "Train: 100% 500/500 [01:33<00:00,  5.34 step/s, accuracy=0.96, loss=0.11, step=46000]\n",
            "Valid: 100% 6912/6944 [00:06<00:00, 988.08 uttr/s, accuracy=0.87, loss=0.69] \n",
            "Train:   0% 0/500 [00:00<?, ? step/s]"
          ]
        },
        {
          "name": "stdout",
          "output_type": "stream",
          "text": [
            "Step 46000, best model saved. (accuracy=0.8809)\n"
          ]
        },
        {
          "name": "stderr",
          "output_type": "stream",
          "text": [
            "Train: 100% 500/500 [01:32<00:00,  5.40 step/s, accuracy=0.96, loss=0.12, step=46500]\n",
            "Valid: 100% 6912/6944 [00:06<00:00, 998.82 uttr/s, accuracy=0.88, loss=0.66] \n",
            "Train: 100% 500/500 [01:34<00:00,  5.30 step/s, accuracy=0.96, loss=0.13, step=47000]\n",
            "Valid: 100% 6912/6944 [00:07<00:00, 974.64 uttr/s, accuracy=0.87, loss=0.68] \n",
            "Train: 100% 500/500 [01:56<00:00,  4.30 step/s, accuracy=0.97, loss=0.10, step=47500]\n",
            "Valid: 100% 6912/6944 [00:08<00:00, 791.87 uttr/s, accuracy=0.89, loss=0.63]\n",
            "Train: 100% 500/500 [01:56<00:00,  4.31 step/s, accuracy=0.98, loss=0.07, step=48000]\n",
            "Valid: 100% 6912/6944 [00:09<00:00, 745.03 uttr/s, accuracy=0.88, loss=0.65]\n",
            "Train:   0% 0/500 [00:00<?, ? step/s]"
          ]
        },
        {
          "name": "stdout",
          "output_type": "stream",
          "text": [
            "Step 48000, best model saved. (accuracy=0.8863)\n"
          ]
        },
        {
          "name": "stderr",
          "output_type": "stream",
          "text": [
            "Train: 100% 500/500 [01:36<00:00,  5.17 step/s, accuracy=0.98, loss=0.07, step=48500]\n",
            "Valid: 100% 6912/6944 [00:06<00:00, 999.64 uttr/s, accuracy=0.88, loss=0.65] \n",
            "Train: 100% 500/500 [01:38<00:00,  5.05 step/s, accuracy=0.98, loss=0.06, step=49000]\n",
            "Valid: 100% 6912/6944 [00:09<00:00, 759.55 uttr/s, accuracy=0.88, loss=0.65]\n",
            "Train: 100% 500/500 [01:45<00:00,  4.72 step/s, accuracy=0.97, loss=0.09, step=49500]\n",
            "Valid: 100% 6912/6944 [00:07<00:00, 980.87 uttr/s, accuracy=0.87, loss=0.66] \n",
            "Train: 100% 500/500 [01:36<00:00,  5.20 step/s, accuracy=0.98, loss=0.10, step=5e+4] \n",
            "Valid: 100% 6912/6944 [00:06<00:00, 995.53 uttr/s, accuracy=0.88, loss=0.64] \n",
            "Train:   0% 0/500 [00:00<?, ? step/s]"
          ]
        },
        {
          "name": "stdout",
          "output_type": "stream",
          "text": [
            "Step 50000, best model saved. (accuracy=0.8863)\n"
          ]
        },
        {
          "name": "stderr",
          "output_type": "stream",
          "text": [
            "Train: 100% 500/500 [01:35<00:00,  5.22 step/s, accuracy=0.96, loss=0.11, step=50500]\n",
            "Valid: 100% 6912/6944 [00:06<00:00, 988.51 uttr/s, accuracy=0.88, loss=0.66] \n",
            "Train: 100% 500/500 [01:35<00:00,  5.23 step/s, accuracy=0.97, loss=0.07, step=51000]\n",
            "Valid: 100% 6912/6944 [00:07<00:00, 980.58 uttr/s, accuracy=0.89, loss=0.64] \n",
            "Train: 100% 500/500 [01:40<00:00,  4.97 step/s, accuracy=0.96, loss=0.09, step=51500]\n",
            "Valid: 100% 6912/6944 [00:07<00:00, 965.80 uttr/s, accuracy=0.88, loss=0.67] \n",
            "Train: 100% 500/500 [01:40<00:00,  5.00 step/s, accuracy=0.97, loss=0.10, step=52000]\n",
            "Valid: 100% 6912/6944 [00:07<00:00, 954.31 uttr/s, accuracy=0.89, loss=0.63] \n",
            "Train:   0% 0/500 [00:00<?, ? step/s]"
          ]
        },
        {
          "name": "stdout",
          "output_type": "stream",
          "text": [
            "Step 52000, best model saved. (accuracy=0.8869)\n"
          ]
        },
        {
          "name": "stderr",
          "output_type": "stream",
          "text": [
            "Train: 100% 500/500 [01:40<00:00,  4.99 step/s, accuracy=0.98, loss=0.09, step=52500]\n",
            "Valid: 100% 6912/6944 [00:07<00:00, 920.33 uttr/s, accuracy=0.89, loss=0.62]\n",
            "Train: 100% 500/500 [01:43<00:00,  4.82 step/s, accuracy=0.99, loss=0.05, step=53000]\n",
            "Valid: 100% 6912/6944 [00:07<00:00, 909.05 uttr/s, accuracy=0.89, loss=0.61] \n",
            "Train: 100% 500/500 [01:41<00:00,  4.92 step/s, accuracy=0.99, loss=0.05, step=53500]\n",
            "Valid: 100% 6912/6944 [00:07<00:00, 944.76 uttr/s, accuracy=0.89, loss=0.62] \n",
            "Train: 100% 500/500 [01:41<00:00,  4.94 step/s, accuracy=0.99, loss=0.06, step=54000]\n",
            "Valid: 100% 6912/6944 [00:07<00:00, 919.97 uttr/s, accuracy=0.89, loss=0.61] \n",
            "Train:   0% 0/500 [00:00<?, ? step/s]"
          ]
        },
        {
          "name": "stdout",
          "output_type": "stream",
          "text": [
            "Step 54000, best model saved. (accuracy=0.8886)\n"
          ]
        },
        {
          "name": "stderr",
          "output_type": "stream",
          "text": [
            "Train: 100% 500/500 [01:44<00:00,  4.77 step/s, accuracy=0.97, loss=0.06, step=54500]\n",
            "Valid: 100% 6912/6944 [00:08<00:00, 790.13 uttr/s, accuracy=0.89, loss=0.59]\n",
            "Train: 100% 500/500 [01:43<00:00,  4.83 step/s, accuracy=0.97, loss=0.11, step=55000]\n",
            "Valid: 100% 6912/6944 [00:07<00:00, 906.15 uttr/s, accuracy=0.89, loss=0.60] \n",
            "Train: 100% 500/500 [01:44<00:00,  4.77 step/s, accuracy=0.98, loss=0.05, step=55500]\n",
            "Valid: 100% 6912/6944 [00:07<00:00, 979.74 uttr/s, accuracy=0.89, loss=0.63] \n",
            "Train: 100% 500/500 [01:42<00:00,  4.86 step/s, accuracy=0.98, loss=0.10, step=56000]\n",
            "Valid: 100% 6912/6944 [00:07<00:00, 954.43 uttr/s, accuracy=0.89, loss=0.60] \n",
            "Train:   0% 0/500 [00:00<?, ? step/s]"
          ]
        },
        {
          "name": "stdout",
          "output_type": "stream",
          "text": [
            "Step 56000, best model saved. (accuracy=0.8947)\n"
          ]
        },
        {
          "name": "stderr",
          "output_type": "stream",
          "text": [
            "Train: 100% 500/500 [01:41<00:00,  4.92 step/s, accuracy=0.98, loss=0.07, step=56500]\n",
            "Valid: 100% 6912/6944 [00:07<00:00, 962.17 uttr/s, accuracy=0.90, loss=0.58] \n",
            "Train: 100% 500/500 [01:42<00:00,  4.89 step/s, accuracy=0.99, loss=0.05, step=57000]\n",
            "Valid: 100% 6912/6944 [00:07<00:00, 976.68 uttr/s, accuracy=0.89, loss=0.61] \n",
            "Train: 100% 500/500 [01:55<00:00,  4.32 step/s, accuracy=0.99, loss=0.03, step=57500]\n",
            "Valid: 100% 6912/6944 [00:09<00:00, 735.91 uttr/s, accuracy=0.89, loss=0.63]\n",
            "Train: 100% 500/500 [02:00<00:00,  4.15 step/s, accuracy=0.98, loss=0.05, step=58000]\n",
            "Valid: 100% 6912/6944 [00:08<00:00, 793.09 uttr/s, accuracy=0.90, loss=0.58]\n",
            "Train:   0% 0/500 [00:00<?, ? step/s]"
          ]
        },
        {
          "name": "stdout",
          "output_type": "stream",
          "text": [
            "Step 58000, best model saved. (accuracy=0.8971)\n"
          ]
        },
        {
          "name": "stderr",
          "output_type": "stream",
          "text": [
            "Train: 100% 500/500 [01:59<00:00,  4.19 step/s, accuracy=0.99, loss=0.03, step=58500]\n",
            "Valid: 100% 6912/6944 [00:11<00:00, 620.96 uttr/s, accuracy=0.89, loss=0.58]\n",
            "Train: 100% 500/500 [02:14<00:00,  3.72 step/s, accuracy=0.98, loss=0.07, step=59000]\n",
            "Valid: 100% 6912/6944 [00:10<00:00, 668.85 uttr/s, accuracy=0.89, loss=0.65]\n",
            "Train: 100% 500/500 [02:13<00:00,  3.76 step/s, accuracy=0.98, loss=0.06, step=59500]\n",
            "Valid: 100% 6912/6944 [00:10<00:00, 664.30 uttr/s, accuracy=0.90, loss=0.59]\n",
            "Train: 100% 500/500 [02:09<00:00,  3.87 step/s, accuracy=0.98, loss=0.04, step=6e+4] \n",
            "Valid: 100% 6912/6944 [00:10<00:00, 643.85 uttr/s, accuracy=0.90, loss=0.59]\n",
            "Train:   0% 0/500 [00:00<?, ? step/s]"
          ]
        },
        {
          "name": "stdout",
          "output_type": "stream",
          "text": [
            "Step 60000, best model saved. (accuracy=0.8980)\n"
          ]
        },
        {
          "name": "stderr",
          "output_type": "stream",
          "text": [
            "Train: 100% 500/500 [02:13<00:00,  3.75 step/s, accuracy=0.96, loss=0.12, step=60500]\n",
            "Valid: 100% 6912/6944 [00:10<00:00, 684.57 uttr/s, accuracy=0.90, loss=0.58]\n",
            "Train: 100% 500/500 [02:12<00:00,  3.76 step/s, accuracy=0.99, loss=0.03, step=61000]\n",
            "Valid: 100% 6912/6944 [00:10<00:00, 666.30 uttr/s, accuracy=0.90, loss=0.60]\n",
            "Train: 100% 500/500 [02:10<00:00,  3.83 step/s, accuracy=0.99, loss=0.06, step=61500]\n",
            "Valid: 100% 6912/6944 [00:10<00:00, 689.98 uttr/s, accuracy=0.90, loss=0.57]\n",
            "Train: 100% 500/500 [02:09<00:00,  3.85 step/s, accuracy=0.99, loss=0.04, step=62000]\n",
            "Valid: 100% 6912/6944 [00:10<00:00, 669.94 uttr/s, accuracy=0.90, loss=0.64]\n",
            "Train:   0% 0/500 [00:00<?, ? step/s]"
          ]
        },
        {
          "name": "stdout",
          "output_type": "stream",
          "text": [
            "Step 62000, best model saved. (accuracy=0.9003)\n"
          ]
        },
        {
          "name": "stderr",
          "output_type": "stream",
          "text": [
            "Train: 100% 500/500 [02:13<00:00,  3.76 step/s, accuracy=1.00, loss=0.02, step=62500]\n",
            "Valid: 100% 6912/6944 [00:08<00:00, 804.24 uttr/s, accuracy=0.90, loss=0.61]\n",
            "Train: 100% 500/500 [02:07<00:00,  3.91 step/s, accuracy=0.98, loss=0.04, step=63000]\n",
            "Valid: 100% 6912/6944 [00:09<00:00, 715.05 uttr/s, accuracy=0.90, loss=0.60]\n",
            "Train: 100% 500/500 [02:11<00:00,  3.79 step/s, accuracy=0.98, loss=0.04, step=63500]\n",
            "Valid: 100% 6912/6944 [00:10<00:00, 645.97 uttr/s, accuracy=0.90, loss=0.61]\n",
            "Train: 100% 500/500 [02:14<00:00,  3.72 step/s, accuracy=0.99, loss=0.03, step=64000]\n",
            "Valid: 100% 6912/6944 [00:09<00:00, 701.19 uttr/s, accuracy=0.90, loss=0.60]\n",
            "Train:   0% 0/500 [00:00<?, ? step/s]"
          ]
        },
        {
          "name": "stdout",
          "output_type": "stream",
          "text": [
            "Step 64000, best model saved. (accuracy=0.9003)\n"
          ]
        },
        {
          "name": "stderr",
          "output_type": "stream",
          "text": [
            "Train: 100% 500/500 [02:12<00:00,  3.77 step/s, accuracy=1.00, loss=0.02, step=64500]\n",
            "Valid: 100% 6912/6944 [00:10<00:00, 649.12 uttr/s, accuracy=0.90, loss=0.59]\n",
            "Train: 100% 500/500 [02:11<00:00,  3.81 step/s, accuracy=0.99, loss=0.03, step=65000]\n",
            "Valid: 100% 6912/6944 [00:10<00:00, 671.54 uttr/s, accuracy=0.90, loss=0.60]\n",
            "Train: 100% 500/500 [02:23<00:00,  3.50 step/s, accuracy=0.99, loss=0.03, step=65500]\n",
            "Valid: 100% 6912/6944 [00:10<00:00, 661.37 uttr/s, accuracy=0.90, loss=0.61]\n",
            "Train: 100% 500/500 [02:13<00:00,  3.74 step/s, accuracy=0.99, loss=0.03, step=66000]\n",
            "Valid: 100% 6912/6944 [00:10<00:00, 651.35 uttr/s, accuracy=0.90, loss=0.60]\n",
            "Train:   0% 0/500 [00:00<?, ? step/s]"
          ]
        },
        {
          "name": "stdout",
          "output_type": "stream",
          "text": [
            "Step 66000, best model saved. (accuracy=0.9022)\n"
          ]
        },
        {
          "name": "stderr",
          "output_type": "stream",
          "text": [
            "Train: 100% 500/500 [02:14<00:00,  3.72 step/s, accuracy=0.98, loss=0.05, step=66500]\n",
            "Valid: 100% 6912/6944 [00:10<00:00, 657.27 uttr/s, accuracy=0.90, loss=0.61]\n",
            "Train: 100% 500/500 [02:14<00:00,  3.71 step/s, accuracy=1.00, loss=0.02, step=67000]\n",
            "Valid: 100% 6912/6944 [00:10<00:00, 632.69 uttr/s, accuracy=0.90, loss=0.58]\n",
            "Train: 100% 500/500 [02:23<00:00,  3.47 step/s, accuracy=0.99, loss=0.03, step=67500]\n",
            "Valid: 100% 6912/6944 [00:10<00:00, 672.74 uttr/s, accuracy=0.90, loss=0.60]\n",
            "Train: 100% 500/500 [02:21<00:00,  3.54 step/s, accuracy=0.99, loss=0.04, step=68000]\n",
            "Valid: 100% 6912/6944 [00:10<00:00, 650.54 uttr/s, accuracy=0.91, loss=0.56]\n",
            "Train:   0% 0/500 [00:00<?, ? step/s]"
          ]
        },
        {
          "name": "stdout",
          "output_type": "stream",
          "text": [
            "Step 68000, best model saved. (accuracy=0.9060)\n"
          ]
        },
        {
          "name": "stderr",
          "output_type": "stream",
          "text": [
            "Train: 100% 500/500 [02:21<00:00,  3.53 step/s, accuracy=0.99, loss=0.02, step=68500]\n",
            "Valid: 100% 6912/6944 [00:10<00:00, 641.81 uttr/s, accuracy=0.90, loss=0.60]\n",
            "Train: 100% 500/500 [02:19<00:00,  3.58 step/s, accuracy=0.98, loss=0.05, step=69000]\n",
            "Valid: 100% 6912/6944 [00:10<00:00, 646.41 uttr/s, accuracy=0.90, loss=0.60]\n",
            "Train: 100% 500/500 [02:09<00:00,  3.86 step/s, accuracy=0.99, loss=0.04, step=69500]\n",
            "Valid: 100% 6912/6944 [00:09<00:00, 736.83 uttr/s, accuracy=0.91, loss=0.55]\n",
            "Train: 100% 500/500 [01:44<00:00,  4.80 step/s, accuracy=0.99, loss=0.06, step=7e+4] \n",
            "Valid: 100% 6912/6944 [00:07<00:00, 986.72 uttr/s, accuracy=0.90, loss=0.58] \n",
            "Train:   0% 0/500 [00:00<?, ? step/s]"
          ]
        },
        {
          "name": "stdout",
          "output_type": "stream",
          "text": [
            "Step 70000, best model saved. (accuracy=0.9060)\n"
          ]
        },
        {
          "name": "stderr",
          "output_type": "stream",
          "text": [
            "Train: 100% 500/500 [01:41<00:00,  4.94 step/s, accuracy=0.98, loss=0.04, step=70500]\n",
            "Valid: 100% 6912/6944 [00:07<00:00, 939.31 uttr/s, accuracy=0.90, loss=0.56] \n",
            "Train: 100% 500/500 [01:39<00:00,  5.01 step/s, accuracy=1.00, loss=0.01, step=71000]\n",
            "Valid: 100% 6912/6944 [00:07<00:00, 964.75 uttr/s, accuracy=0.90, loss=0.58] \n",
            "Train: 100% 500/500 [01:41<00:00,  4.95 step/s, accuracy=0.99, loss=0.03, step=71500]\n",
            "Valid: 100% 6912/6944 [00:07<00:00, 937.03 uttr/s, accuracy=0.90, loss=0.59] \n",
            "Train: 100% 500/500 [01:38<00:00,  5.10 step/s, accuracy=1.00, loss=0.01, step=72000]\n",
            "Valid: 100% 6912/6944 [00:07<00:00, 945.94 uttr/s, accuracy=0.90, loss=0.57] \n",
            "Train:   0% 0/500 [00:00<?, ? step/s]"
          ]
        },
        {
          "name": "stdout",
          "output_type": "stream",
          "text": [
            "Step 72000, best model saved. (accuracy=0.9060)\n"
          ]
        },
        {
          "name": "stderr",
          "output_type": "stream",
          "text": [
            "Train: 100% 500/500 [01:37<00:00,  5.12 step/s, accuracy=1.00, loss=0.01, step=72500]\n",
            "Valid: 100% 6912/6944 [00:07<00:00, 957.22 uttr/s, accuracy=0.90, loss=0.56] \n",
            "Train: 100% 500/500 [01:36<00:00,  5.19 step/s, accuracy=0.99, loss=0.04, step=73000]\n",
            "Valid: 100% 6912/6944 [00:07<00:00, 975.79 uttr/s, accuracy=0.90, loss=0.58] \n",
            "Train: 100% 500/500 [01:34<00:00,  5.27 step/s, accuracy=0.98, loss=0.06, step=73500]\n",
            "Valid: 100% 6912/6944 [00:07<00:00, 979.14 uttr/s, accuracy=0.90, loss=0.58] \n",
            "Train: 100% 500/500 [01:36<00:00,  5.17 step/s, accuracy=0.98, loss=0.04, step=74000]\n",
            "Valid: 100% 6912/6944 [00:07<00:00, 960.91 uttr/s, accuracy=0.90, loss=0.58] \n",
            "Train:   0% 0/500 [00:00<?, ? step/s]"
          ]
        },
        {
          "name": "stdout",
          "output_type": "stream",
          "text": [
            "Step 74000, best model saved. (accuracy=0.9060)\n"
          ]
        },
        {
          "name": "stderr",
          "output_type": "stream",
          "text": [
            "Train: 100% 500/500 [01:38<00:00,  5.08 step/s, accuracy=0.99, loss=0.03, step=74500]\n",
            "Valid: 100% 6912/6944 [00:07<00:00, 985.53 uttr/s, accuracy=0.90, loss=0.56] \n",
            "Train: 100% 500/500 [01:35<00:00,  5.25 step/s, accuracy=0.99, loss=0.03, step=75000]\n",
            "Valid: 100% 6912/6944 [00:06<00:00, 987.84 uttr/s, accuracy=0.91, loss=0.56] \n",
            "Train: 100% 500/500 [01:37<00:00,  5.13 step/s, accuracy=1.00, loss=0.01, step=75500]\n",
            "Valid: 100% 6912/6944 [00:07<00:00, 980.34 uttr/s, accuracy=0.90, loss=0.58] \n",
            "Train: 100% 500/500 [01:36<00:00,  5.19 step/s, accuracy=0.98, loss=0.04, step=76000]\n",
            "Valid: 100% 6912/6944 [00:07<00:00, 976.81 uttr/s, accuracy=0.91, loss=0.54] \n",
            "Train:   0% 0/500 [00:00<?, ? step/s]"
          ]
        },
        {
          "name": "stdout",
          "output_type": "stream",
          "text": [
            "Step 76000, best model saved. (accuracy=0.9097)\n"
          ]
        },
        {
          "name": "stderr",
          "output_type": "stream",
          "text": [
            "Train: 100% 500/500 [01:36<00:00,  5.18 step/s, accuracy=0.99, loss=0.02, step=76500]\n",
            "Valid: 100% 6912/6944 [00:06<00:00, 1005.22 uttr/s, accuracy=0.91, loss=0.55]\n",
            "Train: 100% 500/500 [01:35<00:00,  5.22 step/s, accuracy=1.00, loss=0.01, step=77000]\n",
            "Valid: 100% 6912/6944 [00:06<00:00, 996.08 uttr/s, accuracy=0.90, loss=0.59] \n",
            "Train: 100% 500/500 [01:35<00:00,  5.26 step/s, accuracy=0.98, loss=0.04, step=77500]\n",
            "Valid: 100% 6912/6944 [00:07<00:00, 986.16 uttr/s, accuracy=0.90, loss=0.58] \n",
            "Train: 100% 500/500 [01:38<00:00,  5.06 step/s, accuracy=0.99, loss=0.03, step=78000]\n",
            "Valid: 100% 6912/6944 [00:07<00:00, 948.90 uttr/s, accuracy=0.90, loss=0.56] \n",
            "Train:   0% 0/500 [00:00<?, ? step/s]"
          ]
        },
        {
          "name": "stdout",
          "output_type": "stream",
          "text": [
            "Step 78000, best model saved. (accuracy=0.9097)\n"
          ]
        },
        {
          "name": "stderr",
          "output_type": "stream",
          "text": [
            "Train: 100% 500/500 [01:41<00:00,  4.92 step/s, accuracy=0.98, loss=0.05, step=78500]\n",
            "Valid: 100% 6912/6944 [00:07<00:00, 929.60 uttr/s, accuracy=0.91, loss=0.57] \n",
            "Train: 100% 500/500 [01:40<00:00,  4.95 step/s, accuracy=0.99, loss=0.03, step=79000]\n",
            "Valid: 100% 6912/6944 [00:07<00:00, 962.68 uttr/s, accuracy=0.90, loss=0.58] \n",
            "Train: 100% 500/500 [01:40<00:00,  4.98 step/s, accuracy=0.98, loss=0.05, step=79500]\n",
            "Valid: 100% 6912/6944 [00:07<00:00, 966.06 uttr/s, accuracy=0.90, loss=0.59] \n",
            "Train: 100% 500/500 [01:40<00:00,  5.00 step/s, accuracy=1.00, loss=0.01, step=8e+4] \n",
            "Valid: 100% 6912/6944 [00:07<00:00, 933.30 uttr/s, accuracy=0.90, loss=0.57] \n",
            "Train:   0% 0/500 [00:00<?, ? step/s]"
          ]
        },
        {
          "name": "stdout",
          "output_type": "stream",
          "text": [
            "Step 80000, best model saved. (accuracy=0.9097)\n"
          ]
        },
        {
          "name": "stderr",
          "output_type": "stream",
          "text": [
            "\n"
          ]
        }
      ],
      "source": [
        "from tqdm import tqdm\n",
        "\n",
        "import torch\n",
        "import torch.nn as nn\n",
        "import torch.multiprocessing as mp\n",
        "from torch.optim import AdamW\n",
        "from torch.utils.data import DataLoader, random_split\n",
        "from torch.utils.tensorboard import SummaryWriter\n",
        "\n",
        "\n",
        "def parse_args():\n",
        "  \"\"\"arguments\"\"\"\n",
        "  config = {\n",
        "    \"data_dir\": \"./Dataset\",\n",
        "    \"save_path\": \"model.ckpt\",\n",
        "    \"batch_size\": 256,\n",
        "    \"n_workers\": 0,\n",
        "    \"valid_steps\": 500,\n",
        "    \"warmup_steps\": 200,\n",
        "    \"save_steps\": 2000,\n",
        "    \"total_steps\": 80000,\n",
        "  }\n",
        "\n",
        "  return config\n",
        "\n",
        "\n",
        "def main(\n",
        "  data_dir,\n",
        "  save_path,\n",
        "  batch_size,\n",
        "  n_workers,\n",
        "  valid_steps,\n",
        "  warmup_steps,\n",
        "  total_steps,\n",
        "  save_steps,\n",
        "):\n",
        "  \"\"\"Main function.\"\"\"\n",
        "  device = torch.device(\"cuda\" if torch.cuda.is_available() else \"cpu\")\n",
        "  print(f\"[Info]: Use {device} now!\")\n",
        "\n",
        "  writer = SummaryWriter('runs/ccc')\n",
        "  writer.add_scalar(\"test/dummy\", 1.0, 0)\n",
        "  writer.flush()\n",
        "\n",
        "  train_loader, valid_loader, speaker_num = get_dataloader(data_dir, batch_size, n_workers)\n",
        "  train_iterator = iter(train_loader)\n",
        "  print(f\"[Info]: Finish loading data!\",flush = True)\n",
        "\n",
        "  model = Classifier(n_spks=speaker_num).to(device)\n",
        "  criterion = nn.CrossEntropyLoss()\n",
        "  optimizer = AdamW(model.parameters(), lr=1e-3)\n",
        "  scheduler = get_cosine_schedule_with_warmup(optimizer, warmup_steps, total_steps)\n",
        "  print(f\"[Info]: Finish creating model!\",flush = True)\n",
        "\n",
        "  best_accuracy = -1.0\n",
        "  best_state_dict = None\n",
        "\n",
        "  pbar = tqdm(total=valid_steps, ncols=0, desc=\"Train\", unit=\" step\")\n",
        "\n",
        "  for step in range(total_steps):\n",
        "    # Get data\n",
        "    try:\n",
        "      batch = next(train_iterator)\n",
        "    except StopIteration:\n",
        "      train_iterator = iter(train_loader)\n",
        "      batch = next(train_iterator)\n",
        "\n",
        "    loss, accuracy = model_fn(batch, model, criterion, device)\n",
        "    batch_loss = loss.item()\n",
        "    batch_accuracy = accuracy.item()\n",
        "\n",
        "    # Updata model\n",
        "    loss.backward()\n",
        "    optimizer.step()\n",
        "    scheduler.step()\n",
        "    optimizer.zero_grad()\n",
        "\n",
        "    global_step = step + 1\n",
        "    writer.add_scalar(\"train/accuracy\", batch_accuracy, global_step)\n",
        "    writer.flush()\n",
        "\n",
        "    # Log\n",
        "    pbar.update()\n",
        "    pbar.set_postfix(\n",
        "      loss=f\"{batch_loss:.2f}\",\n",
        "      accuracy=f\"{batch_accuracy:.2f}\",\n",
        "      step=step + 1,\n",
        "    )\n",
        "\n",
        "    # Do validation\n",
        "    if (step + 1) % valid_steps == 0:\n",
        "      pbar.close()\n",
        "\n",
        "      valid_accuracy = valid(valid_loader, model, criterion, device)\n",
        "      writer.add_scalar(\"valid/accuracy\", valid_accuracy, global_step)\n",
        "      writer.flush()\n",
        "      \n",
        "      # keep the best model\n",
        "      if valid_accuracy > best_accuracy:\n",
        "        best_accuracy = valid_accuracy\n",
        "        best_state_dict = model.state_dict()\n",
        "\n",
        "      pbar = tqdm(total=valid_steps, ncols=0, desc=\"Train\", unit=\" step\")\n",
        "\n",
        "    # Save the best model so far.\n",
        "    if (step + 1) % save_steps == 0 and best_state_dict is not None:\n",
        "      torch.save(best_state_dict, save_path)\n",
        "      pbar.write(f\"Step {step + 1}, best model saved. (accuracy={best_accuracy:.4f})\")\n",
        "\n",
        "  pbar.close()\n",
        "  writer.close()\n",
        "\n",
        "\n",
        "if __name__ == \"__main__\":\n",
        "  main(**parse_args())\n"
      ]
    },
    {
      "cell_type": "markdown",
      "metadata": {
        "id": "0R2rx3AyHpQ-"
      },
      "source": [
        "# Inference"
      ]
    },
    {
      "cell_type": "markdown",
      "metadata": {
        "id": "pSuI3WY9Fz78"
      },
      "source": [
        "## Dataset of inference"
      ]
    },
    {
      "cell_type": "code",
      "execution_count": 9,
      "metadata": {
        "id": "4evns0055Dsx"
      },
      "outputs": [],
      "source": [
        "import os\n",
        "import json\n",
        "import torch\n",
        "from pathlib import Path\n",
        "from torch.utils.data import Dataset\n",
        "\n",
        "\n",
        "class InferenceDataset(Dataset):\n",
        "  def __init__(self, data_dir):\n",
        "    testdata_path = Path(data_dir) / \"testdata.json\"\n",
        "    metadata = json.load(testdata_path.open())\n",
        "    self.data_dir = data_dir\n",
        "    self.data = metadata[\"utterances\"]\n",
        "\n",
        "  def __len__(self):\n",
        "    return len(self.data)\n",
        "\n",
        "  def __getitem__(self, index):\n",
        "    utterance = self.data[index]\n",
        "    feat_path = utterance[\"feature_path\"]\n",
        "    mel = torch.load(os.path.join(self.data_dir, feat_path))\n",
        "\n",
        "    return feat_path, mel\n",
        "\n",
        "\n",
        "def inference_collate_batch(batch):\n",
        "  \"\"\"Collate a batch of data.\"\"\"\n",
        "  feat_paths, mels = zip(*batch)\n",
        "\n",
        "  return feat_paths, torch.stack(mels)\n"
      ]
    },
    {
      "cell_type": "markdown",
      "metadata": {
        "id": "oAinHBG1GIWv"
      },
      "source": [
        "## Main funcrion of Inference"
      ]
    },
    {
      "cell_type": "code",
      "execution_count": 10,
      "metadata": {
        "id": "yQaTt7VDHoRI"
      },
      "outputs": [
        {
          "name": "stdout",
          "output_type": "stream",
          "text": [
            "[Info]: Use cuda now!\n",
            "[Info]: Finish loading data!\n",
            "[Info]: Finish creating model!\n"
          ]
        },
        {
          "name": "stderr",
          "output_type": "stream",
          "text": [
            "e:\\anaconda3\\envs\\torch-env\\lib\\site-packages\\torch\\nn\\modules\\transformer.py:379: UserWarning: enable_nested_tensor is True, but self.use_nested_tensor is False because encoder_layer.self_attn.batch_first was not True(use batch_first for better inference performance)\n",
            "  warnings.warn(\n",
            "C:\\Users\\Lenovo\\AppData\\Local\\Temp\\ipykernel_22356\\72179661.py:45: FutureWarning: You are using `torch.load` with `weights_only=False` (the current default value), which uses the default pickle module implicitly. It is possible to construct malicious pickle data which will execute arbitrary code during unpickling (See https://github.com/pytorch/pytorch/blob/main/SECURITY.md#untrusted-models for more details). In a future release, the default value for `weights_only` will be flipped to `True`. This limits the functions that could be executed during unpickling. Arbitrary objects will no longer be allowed to be loaded via this mode unless they are explicitly allowlisted by the user via `torch.serialization.add_safe_globals`. We recommend you start setting `weights_only=True` for any use case where you don't have full control of the loaded file. Please open an issue on GitHub for any issues related to this experimental feature.\n",
            "  model.load_state_dict(torch.load(model_path))\n"
          ]
        },
        {
          "data": {
            "application/vnd.jupyter.widget-view+json": {
              "model_id": "b10059f2c41e4f1cb2f2c3dd689084eb",
              "version_major": 2,
              "version_minor": 0
            },
            "text/plain": [
              "  0%|          | 0/6000 [00:00<?, ?it/s]"
            ]
          },
          "metadata": {},
          "output_type": "display_data"
        },
        {
          "name": "stderr",
          "output_type": "stream",
          "text": [
            "C:\\Users\\Lenovo\\AppData\\Local\\Temp\\ipykernel_22356\\2580348096.py:21: FutureWarning: You are using `torch.load` with `weights_only=False` (the current default value), which uses the default pickle module implicitly. It is possible to construct malicious pickle data which will execute arbitrary code during unpickling (See https://github.com/pytorch/pytorch/blob/main/SECURITY.md#untrusted-models for more details). In a future release, the default value for `weights_only` will be flipped to `True`. This limits the functions that could be executed during unpickling. Arbitrary objects will no longer be allowed to be loaded via this mode unless they are explicitly allowlisted by the user via `torch.serialization.add_safe_globals`. We recommend you start setting `weights_only=True` for any use case where you don't have full control of the loaded file. Please open an issue on GitHub for any issues related to this experimental feature.\n",
            "  mel = torch.load(os.path.join(self.data_dir, feat_path))\n"
          ]
        }
      ],
      "source": [
        "import json\n",
        "import csv\n",
        "from pathlib import Path\n",
        "from tqdm.notebook import tqdm\n",
        "\n",
        "import torch\n",
        "from torch.utils.data import DataLoader\n",
        "\n",
        "def parse_args():\n",
        "  \"\"\"arguments\"\"\"\n",
        "  config = {\n",
        "    \"data_dir\": \"./Dataset\",\n",
        "    \"model_path\": \"./model.ckpt\",\n",
        "    \"output_path\": \"./output.csv\",\n",
        "  }\n",
        "\n",
        "  return config\n",
        "\n",
        "\n",
        "def main(\n",
        "  data_dir,\n",
        "  model_path,\n",
        "  output_path,\n",
        "):\n",
        "  \"\"\"Main function.\"\"\"\n",
        "  device = torch.device(\"cuda\" if torch.cuda.is_available() else \"cpu\")\n",
        "  print(f\"[Info]: Use {device} now!\")\n",
        "\n",
        "  mapping_path = Path(data_dir) / \"mapping.json\"\n",
        "  mapping = json.load(mapping_path.open())\n",
        "\n",
        "  dataset = InferenceDataset(data_dir)\n",
        "  dataloader = DataLoader(\n",
        "    dataset,\n",
        "    batch_size=1,\n",
        "    shuffle=False,\n",
        "    drop_last=False,\n",
        "    num_workers=0,\n",
        "    collate_fn=inference_collate_batch,\n",
        "  )\n",
        "  print(f\"[Info]: Finish loading data!\",flush = True)\n",
        "\n",
        "  speaker_num = len(mapping[\"id2speaker\"])\n",
        "  model = Classifier(n_spks=speaker_num).to(device)\n",
        "  model.load_state_dict(torch.load(model_path))\n",
        "  model.eval()\n",
        "  print(f\"[Info]: Finish creating model!\",flush = True)\n",
        "\n",
        "  results = [[\"Id\", \"Category\"]]\n",
        "  for feat_paths, mels in tqdm(dataloader):\n",
        "    with torch.no_grad():\n",
        "      mels = mels.to(device)\n",
        "      outs = model(mels)\n",
        "      preds = outs.argmax(1).cpu().numpy()\n",
        "      for feat_path, pred in zip(feat_paths, preds):\n",
        "        results.append([feat_path, mapping[\"id2speaker\"][str(pred)]])\n",
        "\n",
        "  with open(output_path, 'w', newline='') as csvfile:\n",
        "    writer = csv.writer(csvfile)\n",
        "    writer.writerows(results)\n",
        "\n",
        "\n",
        "if __name__ == \"__main__\":\n",
        "  main(**parse_args())\n"
      ]
    }
  ],
  "metadata": {
    "accelerator": "GPU",
    "colab": {
      "name": "HW04.ipynb",
      "provenance": [],
      "toc_visible": true
    },
    "kernelspec": {
      "display_name": "torch-env",
      "language": "python",
      "name": "python3"
    },
    "language_info": {
      "codemirror_mode": {
        "name": "ipython",
        "version": 3
      },
      "file_extension": ".py",
      "mimetype": "text/x-python",
      "name": "python",
      "nbconvert_exporter": "python",
      "pygments_lexer": "ipython3",
      "version": "3.10.18"
    }
  },
  "nbformat": 4,
  "nbformat_minor": 0
}
